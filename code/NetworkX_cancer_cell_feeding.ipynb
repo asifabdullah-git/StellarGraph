{
  "nbformat": 4,
  "nbformat_minor": 0,
  "metadata": {
    "colab": {
      "name": "NetworkX cancer cell feeding.ipynb",
      "provenance": [],
      "collapsed_sections": [],
      "toc_visible": true,
      "mount_file_id": "1NaS-uociMdveotKuieFNHoNeERxmUcF9",
      "authorship_tag": "ABX9TyOXU9DA4Ikmmbt+V52X5n9T"
    },
    "kernelspec": {
      "name": "python3",
      "display_name": "Python 3"
    }
  },
  "cells": [
    {
      "cell_type": "code",
      "metadata": {
        "id": "3_JSAXQ-Wz1a",
        "colab": {
          "base_uri": "https://localhost:8080/",
          "height": 1000
        },
        "outputId": "75fe6b1d-5e26-456f-db3e-91c1e59ba9a2"
      },
      "source": [
        "!pip install stellargraph"
      ],
      "execution_count": null,
      "outputs": [
        {
          "output_type": "stream",
          "text": [
            "Collecting stellargraph\n",
            "\u001b[?25l  Downloading https://files.pythonhosted.org/packages/74/78/16b23ef04cf6fb24a7dea9fd0e03c8308a56681cc5efe29f16186210ba04/stellargraph-1.2.1-py3-none-any.whl (435kB)\n",
            "\r\u001b[K     |▊                               | 10kB 15.4MB/s eta 0:00:01\r\u001b[K     |█▌                              | 20kB 2.2MB/s eta 0:00:01\r\u001b[K     |██▎                             | 30kB 2.7MB/s eta 0:00:01\r\u001b[K     |███                             | 40kB 3.0MB/s eta 0:00:01\r\u001b[K     |███▊                            | 51kB 2.5MB/s eta 0:00:01\r\u001b[K     |████▌                           | 61kB 2.8MB/s eta 0:00:01\r\u001b[K     |█████▎                          | 71kB 3.1MB/s eta 0:00:01\r\u001b[K     |██████                          | 81kB 3.4MB/s eta 0:00:01\r\u001b[K     |██████▊                         | 92kB 3.6MB/s eta 0:00:01\r\u001b[K     |███████▌                        | 102kB 3.4MB/s eta 0:00:01\r\u001b[K     |████████▎                       | 112kB 3.4MB/s eta 0:00:01\r\u001b[K     |█████████                       | 122kB 3.4MB/s eta 0:00:01\r\u001b[K     |█████████▉                      | 133kB 3.4MB/s eta 0:00:01\r\u001b[K     |██████████▌                     | 143kB 3.4MB/s eta 0:00:01\r\u001b[K     |███████████▎                    | 153kB 3.4MB/s eta 0:00:01\r\u001b[K     |████████████                    | 163kB 3.4MB/s eta 0:00:01\r\u001b[K     |████████████▉                   | 174kB 3.4MB/s eta 0:00:01\r\u001b[K     |█████████████▌                  | 184kB 3.4MB/s eta 0:00:01\r\u001b[K     |██████████████▎                 | 194kB 3.4MB/s eta 0:00:01\r\u001b[K     |███████████████                 | 204kB 3.4MB/s eta 0:00:01\r\u001b[K     |███████████████▉                | 215kB 3.4MB/s eta 0:00:01\r\u001b[K     |████████████████▋               | 225kB 3.4MB/s eta 0:00:01\r\u001b[K     |█████████████████▎              | 235kB 3.4MB/s eta 0:00:01\r\u001b[K     |██████████████████              | 245kB 3.4MB/s eta 0:00:01\r\u001b[K     |██████████████████▉             | 256kB 3.4MB/s eta 0:00:01\r\u001b[K     |███████████████████▋            | 266kB 3.4MB/s eta 0:00:01\r\u001b[K     |████████████████████▎           | 276kB 3.4MB/s eta 0:00:01\r\u001b[K     |█████████████████████           | 286kB 3.4MB/s eta 0:00:01\r\u001b[K     |█████████████████████▉          | 296kB 3.4MB/s eta 0:00:01\r\u001b[K     |██████████████████████▋         | 307kB 3.4MB/s eta 0:00:01\r\u001b[K     |███████████████████████▍        | 317kB 3.4MB/s eta 0:00:01\r\u001b[K     |████████████████████████        | 327kB 3.4MB/s eta 0:00:01\r\u001b[K     |████████████████████████▉       | 337kB 3.4MB/s eta 0:00:01\r\u001b[K     |█████████████████████████▋      | 348kB 3.4MB/s eta 0:00:01\r\u001b[K     |██████████████████████████▍     | 358kB 3.4MB/s eta 0:00:01\r\u001b[K     |███████████████████████████     | 368kB 3.4MB/s eta 0:00:01\r\u001b[K     |███████████████████████████▉    | 378kB 3.4MB/s eta 0:00:01\r\u001b[K     |████████████████████████████▋   | 389kB 3.4MB/s eta 0:00:01\r\u001b[K     |█████████████████████████████▍  | 399kB 3.4MB/s eta 0:00:01\r\u001b[K     |██████████████████████████████▏ | 409kB 3.4MB/s eta 0:00:01\r\u001b[K     |██████████████████████████████▉ | 419kB 3.4MB/s eta 0:00:01\r\u001b[K     |███████████████████████████████▋| 430kB 3.4MB/s eta 0:00:01\r\u001b[K     |████████████████████████████████| 440kB 3.4MB/s \n",
            "\u001b[?25hRequirement already satisfied: numpy>=1.14 in /usr/local/lib/python3.6/dist-packages (from stellargraph) (1.18.5)\n",
            "Requirement already satisfied: scikit-learn>=0.20 in /usr/local/lib/python3.6/dist-packages (from stellargraph) (0.22.2.post1)\n",
            "Requirement already satisfied: scipy>=1.1.0 in /usr/local/lib/python3.6/dist-packages (from stellargraph) (1.4.1)\n",
            "Requirement already satisfied: tensorflow>=2.1.0 in /usr/local/lib/python3.6/dist-packages (from stellargraph) (2.3.0)\n",
            "Requirement already satisfied: gensim>=3.4.0 in /usr/local/lib/python3.6/dist-packages (from stellargraph) (3.6.0)\n",
            "Requirement already satisfied: pandas>=0.24 in /usr/local/lib/python3.6/dist-packages (from stellargraph) (1.0.5)\n",
            "Requirement already satisfied: matplotlib>=2.2 in /usr/local/lib/python3.6/dist-packages (from stellargraph) (3.2.2)\n",
            "Requirement already satisfied: networkx>=2.2 in /usr/local/lib/python3.6/dist-packages (from stellargraph) (2.5)\n",
            "Requirement already satisfied: joblib>=0.11 in /usr/local/lib/python3.6/dist-packages (from scikit-learn>=0.20->stellargraph) (0.16.0)\n",
            "Requirement already satisfied: tensorflow-estimator<2.4.0,>=2.3.0 in /usr/local/lib/python3.6/dist-packages (from tensorflow>=2.1.0->stellargraph) (2.3.0)\n",
            "Requirement already satisfied: protobuf>=3.9.2 in /usr/local/lib/python3.6/dist-packages (from tensorflow>=2.1.0->stellargraph) (3.12.4)\n",
            "Requirement already satisfied: gast==0.3.3 in /usr/local/lib/python3.6/dist-packages (from tensorflow>=2.1.0->stellargraph) (0.3.3)\n",
            "Requirement already satisfied: keras-preprocessing<1.2,>=1.1.1 in /usr/local/lib/python3.6/dist-packages (from tensorflow>=2.1.0->stellargraph) (1.1.2)\n",
            "Requirement already satisfied: google-pasta>=0.1.8 in /usr/local/lib/python3.6/dist-packages (from tensorflow>=2.1.0->stellargraph) (0.2.0)\n",
            "Requirement already satisfied: termcolor>=1.1.0 in /usr/local/lib/python3.6/dist-packages (from tensorflow>=2.1.0->stellargraph) (1.1.0)\n",
            "Requirement already satisfied: opt-einsum>=2.3.2 in /usr/local/lib/python3.6/dist-packages (from tensorflow>=2.1.0->stellargraph) (3.3.0)\n",
            "Requirement already satisfied: grpcio>=1.8.6 in /usr/local/lib/python3.6/dist-packages (from tensorflow>=2.1.0->stellargraph) (1.32.0)\n",
            "Requirement already satisfied: six>=1.12.0 in /usr/local/lib/python3.6/dist-packages (from tensorflow>=2.1.0->stellargraph) (1.15.0)\n",
            "Requirement already satisfied: wrapt>=1.11.1 in /usr/local/lib/python3.6/dist-packages (from tensorflow>=2.1.0->stellargraph) (1.12.1)\n",
            "Requirement already satisfied: tensorboard<3,>=2.3.0 in /usr/local/lib/python3.6/dist-packages (from tensorflow>=2.1.0->stellargraph) (2.3.0)\n",
            "Requirement already satisfied: wheel>=0.26 in /usr/local/lib/python3.6/dist-packages (from tensorflow>=2.1.0->stellargraph) (0.35.1)\n",
            "Requirement already satisfied: absl-py>=0.7.0 in /usr/local/lib/python3.6/dist-packages (from tensorflow>=2.1.0->stellargraph) (0.10.0)\n",
            "Requirement already satisfied: astunparse==1.6.3 in /usr/local/lib/python3.6/dist-packages (from tensorflow>=2.1.0->stellargraph) (1.6.3)\n",
            "Requirement already satisfied: h5py<2.11.0,>=2.10.0 in /usr/local/lib/python3.6/dist-packages (from tensorflow>=2.1.0->stellargraph) (2.10.0)\n",
            "Requirement already satisfied: smart-open>=1.2.1 in /usr/local/lib/python3.6/dist-packages (from gensim>=3.4.0->stellargraph) (2.1.1)\n",
            "Requirement already satisfied: python-dateutil>=2.6.1 in /usr/local/lib/python3.6/dist-packages (from pandas>=0.24->stellargraph) (2.8.1)\n",
            "Requirement already satisfied: pytz>=2017.2 in /usr/local/lib/python3.6/dist-packages (from pandas>=0.24->stellargraph) (2018.9)\n",
            "Requirement already satisfied: cycler>=0.10 in /usr/local/lib/python3.6/dist-packages (from matplotlib>=2.2->stellargraph) (0.10.0)\n",
            "Requirement already satisfied: pyparsing!=2.0.4,!=2.1.2,!=2.1.6,>=2.0.1 in /usr/local/lib/python3.6/dist-packages (from matplotlib>=2.2->stellargraph) (2.4.7)\n",
            "Requirement already satisfied: kiwisolver>=1.0.1 in /usr/local/lib/python3.6/dist-packages (from matplotlib>=2.2->stellargraph) (1.2.0)\n",
            "Requirement already satisfied: decorator>=4.3.0 in /usr/local/lib/python3.6/dist-packages (from networkx>=2.2->stellargraph) (4.4.2)\n",
            "Requirement already satisfied: setuptools in /usr/local/lib/python3.6/dist-packages (from protobuf>=3.9.2->tensorflow>=2.1.0->stellargraph) (50.3.0)\n",
            "Requirement already satisfied: markdown>=2.6.8 in /usr/local/lib/python3.6/dist-packages (from tensorboard<3,>=2.3.0->tensorflow>=2.1.0->stellargraph) (3.2.2)\n",
            "Requirement already satisfied: tensorboard-plugin-wit>=1.6.0 in /usr/local/lib/python3.6/dist-packages (from tensorboard<3,>=2.3.0->tensorflow>=2.1.0->stellargraph) (1.7.0)\n",
            "Requirement already satisfied: google-auth<2,>=1.6.3 in /usr/local/lib/python3.6/dist-packages (from tensorboard<3,>=2.3.0->tensorflow>=2.1.0->stellargraph) (1.17.2)\n",
            "Requirement already satisfied: requests<3,>=2.21.0 in /usr/local/lib/python3.6/dist-packages (from tensorboard<3,>=2.3.0->tensorflow>=2.1.0->stellargraph) (2.23.0)\n",
            "Requirement already satisfied: werkzeug>=0.11.15 in /usr/local/lib/python3.6/dist-packages (from tensorboard<3,>=2.3.0->tensorflow>=2.1.0->stellargraph) (1.0.1)\n",
            "Requirement already satisfied: google-auth-oauthlib<0.5,>=0.4.1 in /usr/local/lib/python3.6/dist-packages (from tensorboard<3,>=2.3.0->tensorflow>=2.1.0->stellargraph) (0.4.1)\n",
            "Requirement already satisfied: boto3 in /usr/local/lib/python3.6/dist-packages (from smart-open>=1.2.1->gensim>=3.4.0->stellargraph) (1.14.59)\n",
            "Requirement already satisfied: boto in /usr/local/lib/python3.6/dist-packages (from smart-open>=1.2.1->gensim>=3.4.0->stellargraph) (2.49.0)\n",
            "Requirement already satisfied: importlib-metadata; python_version < \"3.8\" in /usr/local/lib/python3.6/dist-packages (from markdown>=2.6.8->tensorboard<3,>=2.3.0->tensorflow>=2.1.0->stellargraph) (1.7.0)\n",
            "Requirement already satisfied: cachetools<5.0,>=2.0.0 in /usr/local/lib/python3.6/dist-packages (from google-auth<2,>=1.6.3->tensorboard<3,>=2.3.0->tensorflow>=2.1.0->stellargraph) (4.1.1)\n",
            "Requirement already satisfied: pyasn1-modules>=0.2.1 in /usr/local/lib/python3.6/dist-packages (from google-auth<2,>=1.6.3->tensorboard<3,>=2.3.0->tensorflow>=2.1.0->stellargraph) (0.2.8)\n",
            "Requirement already satisfied: rsa<5,>=3.1.4; python_version >= \"3\" in /usr/local/lib/python3.6/dist-packages (from google-auth<2,>=1.6.3->tensorboard<3,>=2.3.0->tensorflow>=2.1.0->stellargraph) (4.6)\n",
            "Requirement already satisfied: urllib3!=1.25.0,!=1.25.1,<1.26,>=1.21.1 in /usr/local/lib/python3.6/dist-packages (from requests<3,>=2.21.0->tensorboard<3,>=2.3.0->tensorflow>=2.1.0->stellargraph) (1.24.3)\n",
            "Requirement already satisfied: chardet<4,>=3.0.2 in /usr/local/lib/python3.6/dist-packages (from requests<3,>=2.21.0->tensorboard<3,>=2.3.0->tensorflow>=2.1.0->stellargraph) (3.0.4)\n",
            "Requirement already satisfied: idna<3,>=2.5 in /usr/local/lib/python3.6/dist-packages (from requests<3,>=2.21.0->tensorboard<3,>=2.3.0->tensorflow>=2.1.0->stellargraph) (2.10)\n",
            "Requirement already satisfied: certifi>=2017.4.17 in /usr/local/lib/python3.6/dist-packages (from requests<3,>=2.21.0->tensorboard<3,>=2.3.0->tensorflow>=2.1.0->stellargraph) (2020.6.20)\n",
            "Requirement already satisfied: requests-oauthlib>=0.7.0 in /usr/local/lib/python3.6/dist-packages (from google-auth-oauthlib<0.5,>=0.4.1->tensorboard<3,>=2.3.0->tensorflow>=2.1.0->stellargraph) (1.3.0)\n",
            "Requirement already satisfied: s3transfer<0.4.0,>=0.3.0 in /usr/local/lib/python3.6/dist-packages (from boto3->smart-open>=1.2.1->gensim>=3.4.0->stellargraph) (0.3.3)\n",
            "Requirement already satisfied: jmespath<1.0.0,>=0.7.1 in /usr/local/lib/python3.6/dist-packages (from boto3->smart-open>=1.2.1->gensim>=3.4.0->stellargraph) (0.10.0)\n",
            "Requirement already satisfied: botocore<1.18.0,>=1.17.59 in /usr/local/lib/python3.6/dist-packages (from boto3->smart-open>=1.2.1->gensim>=3.4.0->stellargraph) (1.17.59)\n",
            "Requirement already satisfied: zipp>=0.5 in /usr/local/lib/python3.6/dist-packages (from importlib-metadata; python_version < \"3.8\"->markdown>=2.6.8->tensorboard<3,>=2.3.0->tensorflow>=2.1.0->stellargraph) (3.1.0)\n",
            "Requirement already satisfied: pyasn1<0.5.0,>=0.4.6 in /usr/local/lib/python3.6/dist-packages (from pyasn1-modules>=0.2.1->google-auth<2,>=1.6.3->tensorboard<3,>=2.3.0->tensorflow>=2.1.0->stellargraph) (0.4.8)\n",
            "Requirement already satisfied: oauthlib>=3.0.0 in /usr/local/lib/python3.6/dist-packages (from requests-oauthlib>=0.7.0->google-auth-oauthlib<0.5,>=0.4.1->tensorboard<3,>=2.3.0->tensorflow>=2.1.0->stellargraph) (3.1.0)\n",
            "Requirement already satisfied: docutils<0.16,>=0.10 in /usr/local/lib/python3.6/dist-packages (from botocore<1.18.0,>=1.17.59->boto3->smart-open>=1.2.1->gensim>=3.4.0->stellargraph) (0.15.2)\n",
            "Installing collected packages: stellargraph\n",
            "Successfully installed stellargraph-1.2.1\n"
          ],
          "name": "stdout"
        }
      ]
    },
    {
      "cell_type": "code",
      "metadata": {
        "id": "s3wXTFGD7AXT"
      },
      "source": [
        "#url = '/content/drive/My Drive/Colab Notebooks/stellargraph/Data/graph.csv'\n",
        "#url1 = 'https://raw.githubusercontent.com/asifabdullah-git/StellarGraph/master/Data/graph_final.csv'\n",
        "#url2 = 'https://raw.githubusercontent.com/asifabdullah-git/StellarGraph/master/Data/nodes.csv'\n",
        "\n",
        "url1 = 'https://raw.githubusercontent.com/asifabdullah-git/StellarGraph/master/Data/network_graph/datasets_2738_4529_stack_network_links.csv'\n",
        "url2 = 'https://raw.githubusercontent.com/asifabdullah-git/StellarGraph/master/Data/network_graph/datasets_2738_4529_stack_network_nodes.csv'"
      ],
      "execution_count": null,
      "outputs": []
    },
    {
      "cell_type": "code",
      "metadata": {
        "id": "UML_5Z-LjjeA"
      },
      "source": [
        "import numpy as np\n",
        "import pandas as pd\n",
        "from pandas import DataFrame, Series\n",
        "from sklearn.model_selection import train_test_split\n",
        "import matplotlib.pyplot as plt\n",
        "\n",
        "#import stellargraph as sg\n",
        "import tensorflow as tf\n",
        "import networkx as nx"
      ],
      "execution_count": null,
      "outputs": []
    },
    {
      "cell_type": "code",
      "metadata": {
        "id": "dN6liRA7sZXH"
      },
      "source": [
        "G = nx.Graph(day=\"Stackoverflow\")"
      ],
      "execution_count": null,
      "outputs": []
    },
    {
      "cell_type": "code",
      "metadata": {
        "id": "Pt62Pn1WsZcI"
      },
      "source": [
        "df_nodes = pd.read_csv(url2, encoding='utf-8')\n",
        "df_edges = pd.read_csv(url1, encoding='utf-8')"
      ],
      "execution_count": null,
      "outputs": []
    },
    {
      "cell_type": "code",
      "metadata": {
        "id": "IG8CtFXnXWFB",
        "colab": {
          "base_uri": "https://localhost:8080/",
          "height": 399
        },
        "outputId": "1e7743bd-e175-481d-a56a-5d093877e250"
      },
      "source": [
        "df_nodes"
      ],
      "execution_count": null,
      "outputs": [
        {
          "output_type": "execute_result",
          "data": {
            "text/html": [
              "<div>\n",
              "<style scoped>\n",
              "    .dataframe tbody tr th:only-of-type {\n",
              "        vertical-align: middle;\n",
              "    }\n",
              "\n",
              "    .dataframe tbody tr th {\n",
              "        vertical-align: top;\n",
              "    }\n",
              "\n",
              "    .dataframe thead th {\n",
              "        text-align: right;\n",
              "    }\n",
              "</style>\n",
              "<table border=\"1\" class=\"dataframe\">\n",
              "  <thead>\n",
              "    <tr style=\"text-align: right;\">\n",
              "      <th></th>\n",
              "      <th>name</th>\n",
              "      <th>group</th>\n",
              "      <th>nodesize</th>\n",
              "    </tr>\n",
              "  </thead>\n",
              "  <tbody>\n",
              "    <tr>\n",
              "      <th>0</th>\n",
              "      <td>html</td>\n",
              "      <td>6</td>\n",
              "      <td>272.45</td>\n",
              "    </tr>\n",
              "    <tr>\n",
              "      <th>1</th>\n",
              "      <td>css</td>\n",
              "      <td>6</td>\n",
              "      <td>341.17</td>\n",
              "    </tr>\n",
              "    <tr>\n",
              "      <th>2</th>\n",
              "      <td>hibernate</td>\n",
              "      <td>8</td>\n",
              "      <td>29.83</td>\n",
              "    </tr>\n",
              "    <tr>\n",
              "      <th>3</th>\n",
              "      <td>spring</td>\n",
              "      <td>8</td>\n",
              "      <td>52.84</td>\n",
              "    </tr>\n",
              "    <tr>\n",
              "      <th>4</th>\n",
              "      <td>ruby</td>\n",
              "      <td>3</td>\n",
              "      <td>70.14</td>\n",
              "    </tr>\n",
              "    <tr>\n",
              "      <th>...</th>\n",
              "      <td>...</td>\n",
              "      <td>...</td>\n",
              "      <td>...</td>\n",
              "    </tr>\n",
              "    <tr>\n",
              "      <th>110</th>\n",
              "      <td>perl</td>\n",
              "      <td>13</td>\n",
              "      <td>19.38</td>\n",
              "    </tr>\n",
              "    <tr>\n",
              "      <th>111</th>\n",
              "      <td>cloud</td>\n",
              "      <td>9</td>\n",
              "      <td>10.66</td>\n",
              "    </tr>\n",
              "    <tr>\n",
              "      <th>112</th>\n",
              "      <td>photoshop</td>\n",
              "      <td>6</td>\n",
              "      <td>12.62</td>\n",
              "    </tr>\n",
              "    <tr>\n",
              "      <th>113</th>\n",
              "      <td>powershell</td>\n",
              "      <td>5</td>\n",
              "      <td>9.85</td>\n",
              "    </tr>\n",
              "    <tr>\n",
              "      <th>114</th>\n",
              "      <td>matlab</td>\n",
              "      <td>1</td>\n",
              "      <td>27.21</td>\n",
              "    </tr>\n",
              "  </tbody>\n",
              "</table>\n",
              "<p>115 rows × 3 columns</p>\n",
              "</div>"
            ],
            "text/plain": [
              "           name  group  nodesize\n",
              "0          html      6    272.45\n",
              "1           css      6    341.17\n",
              "2     hibernate      8     29.83\n",
              "3        spring      8     52.84\n",
              "4          ruby      3     70.14\n",
              "..          ...    ...       ...\n",
              "110        perl     13     19.38\n",
              "111       cloud      9     10.66\n",
              "112   photoshop      6     12.62\n",
              "113  powershell      5      9.85\n",
              "114      matlab      1     27.21\n",
              "\n",
              "[115 rows x 3 columns]"
            ]
          },
          "metadata": {
            "tags": []
          },
          "execution_count": 80
        }
      ]
    },
    {
      "cell_type": "code",
      "metadata": {
        "id": "YcSBx0tFNTfd",
        "colab": {
          "base_uri": "https://localhost:8080/",
          "height": 35
        },
        "outputId": "73f8f171-d178-426a-81b0-905fc64aed94"
      },
      "source": [
        "#First, find out all the features with type object in the data:\n",
        "\n",
        "objList = df_nodes.select_dtypes(include = \"object\").columns\n",
        "print (objList)"
      ],
      "execution_count": null,
      "outputs": [
        {
          "output_type": "stream",
          "text": [
            "Index(['name'], dtype='object')\n"
          ],
          "name": "stdout"
        }
      ]
    },
    {
      "cell_type": "code",
      "metadata": {
        "id": "og3h-kMDNZ81",
        "colab": {
          "base_uri": "https://localhost:8080/",
          "height": 35
        },
        "outputId": "5ca3325d-e08e-4aef-b8d5-3650beedfa80"
      },
      "source": [
        "#First, find out all the features with type object in the data:\n",
        "\n",
        "objList1 = df_edges.select_dtypes(include = \"object\").columns\n",
        "print (objList1)"
      ],
      "execution_count": null,
      "outputs": [
        {
          "output_type": "stream",
          "text": [
            "Index(['source', 'target'], dtype='object')\n"
          ],
          "name": "stdout"
        }
      ]
    },
    {
      "cell_type": "code",
      "metadata": {
        "id": "ewrAp3h1M8d2",
        "colab": {
          "base_uri": "https://localhost:8080/",
          "height": 212
        },
        "outputId": "aa363d22-5ddf-4541-c864-537a9b9f4ac0"
      },
      "source": [
        "#Label Encoding for object to numeric conversion\n",
        "\n",
        "from sklearn.preprocessing import LabelEncoder\n",
        "le = LabelEncoder()\n",
        "\n",
        "for feat in objList:\n",
        "    df_nodes[feat] = le.fit_transform(df_nodes[feat].astype(str))\n",
        "\n",
        "print (df_nodes.info())"
      ],
      "execution_count": null,
      "outputs": [
        {
          "output_type": "stream",
          "text": [
            "<class 'pandas.core.frame.DataFrame'>\n",
            "RangeIndex: 115 entries, 0 to 114\n",
            "Data columns (total 3 columns):\n",
            " #   Column    Non-Null Count  Dtype  \n",
            "---  ------    --------------  -----  \n",
            " 0   name      115 non-null    int64  \n",
            " 1   group     115 non-null    int64  \n",
            " 2   nodesize  115 non-null    float64\n",
            "dtypes: float64(1), int64(2)\n",
            "memory usage: 2.8 KB\n",
            "None\n"
          ],
          "name": "stdout"
        }
      ]
    },
    {
      "cell_type": "code",
      "metadata": {
        "id": "M5VIOlhKND7v",
        "colab": {
          "base_uri": "https://localhost:8080/",
          "height": 212
        },
        "outputId": "3a070dea-a04b-4f12-8dde-169991f3cfb6"
      },
      "source": [
        "from sklearn.preprocessing import LabelEncoder\n",
        "le = LabelEncoder()\n",
        "\n",
        "for feat in objList1:\n",
        "    df_edges[feat] = le.fit_transform(df_edges[feat].astype(str))\n",
        "\n",
        "print (df_edges.info())"
      ],
      "execution_count": null,
      "outputs": [
        {
          "output_type": "stream",
          "text": [
            "<class 'pandas.core.frame.DataFrame'>\n",
            "RangeIndex: 490 entries, 0 to 489\n",
            "Data columns (total 3 columns):\n",
            " #   Column  Non-Null Count  Dtype  \n",
            "---  ------  --------------  -----  \n",
            " 0   source  490 non-null    int64  \n",
            " 1   target  490 non-null    int64  \n",
            " 2   value   490 non-null    float64\n",
            "dtypes: float64(1), int64(2)\n",
            "memory usage: 11.6 KB\n",
            "None\n"
          ],
          "name": "stdout"
        }
      ]
    },
    {
      "cell_type": "code",
      "metadata": {
        "id": "605YKfAyrRhl",
        "colab": {
          "base_uri": "https://localhost:8080/",
          "height": 399
        },
        "outputId": "1a9fbea4-1948-4258-b552-a2c5c027af02"
      },
      "source": [
        "df_edges.sort_values(by=['source'])\n"
      ],
      "execution_count": null,
      "outputs": [
        {
          "output_type": "execute_result",
          "data": {
            "text/html": [
              "<div>\n",
              "<style scoped>\n",
              "    .dataframe tbody tr th:only-of-type {\n",
              "        vertical-align: middle;\n",
              "    }\n",
              "\n",
              "    .dataframe tbody tr th {\n",
              "        vertical-align: top;\n",
              "    }\n",
              "\n",
              "    .dataframe thead th {\n",
              "        text-align: right;\n",
              "    }\n",
              "</style>\n",
              "<table border=\"1\" class=\"dataframe\">\n",
              "  <thead>\n",
              "    <tr style=\"text-align: right;\">\n",
              "      <th></th>\n",
              "      <th>source</th>\n",
              "      <th>target</th>\n",
              "      <th>value</th>\n",
              "    </tr>\n",
              "  </thead>\n",
              "  <tbody>\n",
              "    <tr>\n",
              "      <th>426</th>\n",
              "      <td>0</td>\n",
              "      <td>93</td>\n",
              "      <td>32.322524</td>\n",
              "    </tr>\n",
              "    <tr>\n",
              "      <th>262</th>\n",
              "      <td>0</td>\n",
              "      <td>55</td>\n",
              "      <td>20.501744</td>\n",
              "    </tr>\n",
              "    <tr>\n",
              "      <th>86</th>\n",
              "      <td>0</td>\n",
              "      <td>18</td>\n",
              "      <td>62.167895</td>\n",
              "    </tr>\n",
              "    <tr>\n",
              "      <th>483</th>\n",
              "      <td>0</td>\n",
              "      <td>111</td>\n",
              "      <td>32.350925</td>\n",
              "    </tr>\n",
              "    <tr>\n",
              "      <th>66</th>\n",
              "      <td>0</td>\n",
              "      <td>14</td>\n",
              "      <td>20.933192</td>\n",
              "    </tr>\n",
              "    <tr>\n",
              "      <th>...</th>\n",
              "      <td>...</td>\n",
              "      <td>...</td>\n",
              "      <td>...</td>\n",
              "    </tr>\n",
              "    <tr>\n",
              "      <th>312</th>\n",
              "      <td>113</td>\n",
              "      <td>65</td>\n",
              "      <td>43.418825</td>\n",
              "    </tr>\n",
              "    <tr>\n",
              "      <th>195</th>\n",
              "      <td>113</td>\n",
              "      <td>45</td>\n",
              "      <td>34.712865</td>\n",
              "    </tr>\n",
              "    <tr>\n",
              "      <th>193</th>\n",
              "      <td>113</td>\n",
              "      <td>44</td>\n",
              "      <td>46.365091</td>\n",
              "    </tr>\n",
              "    <tr>\n",
              "      <th>432</th>\n",
              "      <td>113</td>\n",
              "      <td>94</td>\n",
              "      <td>48.620335</td>\n",
              "    </tr>\n",
              "    <tr>\n",
              "      <th>244</th>\n",
              "      <td>114</td>\n",
              "      <td>51</td>\n",
              "      <td>42.721668</td>\n",
              "    </tr>\n",
              "  </tbody>\n",
              "</table>\n",
              "<p>490 rows × 3 columns</p>\n",
              "</div>"
            ],
            "text/plain": [
              "     source  target      value\n",
              "426       0      93  32.322524\n",
              "262       0      55  20.501744\n",
              "86        0      18  62.167895\n",
              "483       0     111  32.350925\n",
              "66        0      14  20.933192\n",
              "..      ...     ...        ...\n",
              "312     113      65  43.418825\n",
              "195     113      45  34.712865\n",
              "193     113      44  46.365091\n",
              "432     113      94  48.620335\n",
              "244     114      51  42.721668\n",
              "\n",
              "[490 rows x 3 columns]"
            ]
          },
          "metadata": {
            "tags": []
          },
          "execution_count": 10
        }
      ]
    },
    {
      "cell_type": "code",
      "metadata": {
        "id": "hF1ZjqMKbT3r",
        "colab": {
          "base_uri": "https://localhost:8080/",
          "height": 230
        },
        "outputId": "a41ca14e-ad59-41bb-b895-2e9257a230f0"
      },
      "source": [
        "labels = df_nodes['group']\n",
        "labels"
      ],
      "execution_count": null,
      "outputs": [
        {
          "output_type": "execute_result",
          "data": {
            "text/plain": [
              "0       6\n",
              "1       6\n",
              "2       8\n",
              "3       8\n",
              "4       3\n",
              "       ..\n",
              "110    13\n",
              "111     9\n",
              "112     6\n",
              "113     5\n",
              "114     1\n",
              "Name: group, Length: 115, dtype: int64"
            ]
          },
          "metadata": {
            "tags": []
          },
          "execution_count": 11
        }
      ]
    },
    {
      "cell_type": "code",
      "metadata": {
        "id": "yy9GS9oGtqEA",
        "colab": {
          "base_uri": "https://localhost:8080/",
          "height": 399
        },
        "outputId": "0752e180-dffd-4d3e-cf42-a0607603a489"
      },
      "source": [
        "df_nodes.sort_values(by=['group'])"
      ],
      "execution_count": null,
      "outputs": [
        {
          "output_type": "execute_result",
          "data": {
            "text/html": [
              "<div>\n",
              "<style scoped>\n",
              "    .dataframe tbody tr th:only-of-type {\n",
              "        vertical-align: middle;\n",
              "    }\n",
              "\n",
              "    .dataframe tbody tr th {\n",
              "        vertical-align: top;\n",
              "    }\n",
              "\n",
              "    .dataframe thead th {\n",
              "        text-align: right;\n",
              "    }\n",
              "</style>\n",
              "<table border=\"1\" class=\"dataframe\">\n",
              "  <thead>\n",
              "    <tr style=\"text-align: right;\">\n",
              "      <th></th>\n",
              "      <th>name</th>\n",
              "      <th>group</th>\n",
              "      <th>nodesize</th>\n",
              "    </tr>\n",
              "  </thead>\n",
              "  <tbody>\n",
              "    <tr>\n",
              "      <th>114</th>\n",
              "      <td>58</td>\n",
              "      <td>1</td>\n",
              "      <td>27.21</td>\n",
              "    </tr>\n",
              "    <tr>\n",
              "      <th>82</th>\n",
              "      <td>57</td>\n",
              "      <td>1</td>\n",
              "      <td>44.21</td>\n",
              "    </tr>\n",
              "    <tr>\n",
              "      <th>10</th>\n",
              "      <td>19</td>\n",
              "      <td>1</td>\n",
              "      <td>268.11</td>\n",
              "    </tr>\n",
              "    <tr>\n",
              "      <th>46</th>\n",
              "      <td>74</td>\n",
              "      <td>1</td>\n",
              "      <td>438.67</td>\n",
              "    </tr>\n",
              "    <tr>\n",
              "      <th>58</th>\n",
              "      <td>34</td>\n",
              "      <td>1</td>\n",
              "      <td>9.39</td>\n",
              "    </tr>\n",
              "    <tr>\n",
              "      <th>...</th>\n",
              "      <td>...</td>\n",
              "      <td>...</td>\n",
              "      <td>...</td>\n",
              "    </tr>\n",
              "    <tr>\n",
              "      <th>109</th>\n",
              "      <td>81</td>\n",
              "      <td>13</td>\n",
              "      <td>9.46</td>\n",
              "    </tr>\n",
              "    <tr>\n",
              "      <th>110</th>\n",
              "      <td>68</td>\n",
              "      <td>13</td>\n",
              "      <td>19.38</td>\n",
              "    </tr>\n",
              "    <tr>\n",
              "      <th>36</th>\n",
              "      <td>32</td>\n",
              "      <td>14</td>\n",
              "      <td>11.38</td>\n",
              "    </tr>\n",
              "    <tr>\n",
              "      <th>47</th>\n",
              "      <td>104</td>\n",
              "      <td>14</td>\n",
              "      <td>16.87</td>\n",
              "    </tr>\n",
              "    <tr>\n",
              "      <th>35</th>\n",
              "      <td>31</td>\n",
              "      <td>14</td>\n",
              "      <td>12.50</td>\n",
              "    </tr>\n",
              "  </tbody>\n",
              "</table>\n",
              "<p>115 rows × 3 columns</p>\n",
              "</div>"
            ],
            "text/plain": [
              "     name  group  nodesize\n",
              "114    58      1     27.21\n",
              "82     57      1     44.21\n",
              "10     19      1    268.11\n",
              "46     74      1    438.67\n",
              "58     34      1      9.39\n",
              "..    ...    ...       ...\n",
              "109    81     13      9.46\n",
              "110    68     13     19.38\n",
              "36     32     14     11.38\n",
              "47    104     14     16.87\n",
              "35     31     14     12.50\n",
              "\n",
              "[115 rows x 3 columns]"
            ]
          },
          "metadata": {
            "tags": []
          },
          "execution_count": 12
        }
      ]
    },
    {
      "cell_type": "code",
      "metadata": {
        "id": "Ho2ddxFpsZfL"
      },
      "source": [
        "for index, row in df_nodes.iterrows():\n",
        "    G.add_node(row['name'], group=row['group'], nodesize=row['nodesize'])"
      ],
      "execution_count": null,
      "outputs": []
    },
    {
      "cell_type": "code",
      "metadata": {
        "id": "vPiMyI1-G1Kz"
      },
      "source": [
        "for index, row in df_edges.iterrows():\n",
        "    G.add_weighted_edges_from([(row['source'], row['target'], row['value'])])"
      ],
      "execution_count": null,
      "outputs": []
    },
    {
      "cell_type": "code",
      "metadata": {
        "id": "EhsyfujNs8-q",
        "colab": {
          "base_uri": "https://localhost:8080/",
          "height": 36
        },
        "outputId": "a2d57a60-58a4-4d98-ba29-faba79c79231"
      },
      "source": [
        "'''for index, row in df_edges.iterrows():\n",
        "    G.add_weighted_edges_from([(row['Edge1'], row['Edge2'], row['Weight'])])'''"
      ],
      "execution_count": null,
      "outputs": [
        {
          "output_type": "execute_result",
          "data": {
            "application/vnd.google.colaboratory.intrinsic+json": {
              "type": "string"
            },
            "text/plain": [
              "\"for index, row in df_edges.iterrows():\\n    G.add_weighted_edges_from([(row['Edge1'], row['Edge2'], row['Weight'])])\""
            ]
          },
          "metadata": {
            "tags": []
          },
          "execution_count": 15
        }
      ]
    },
    {
      "cell_type": "code",
      "metadata": {
        "id": "S2bMNM3fAMqK",
        "colab": {
          "base_uri": "https://localhost:8080/",
          "height": 161
        },
        "outputId": "8bb802d5-e170-451d-905f-52f984c5a495"
      },
      "source": [
        "#obtain the adjacency matrix (A)\n",
        "A = nx.adjacency_matrix(G)\n",
        "print('Graph info: ', nx.info(G))\n",
        "\n",
        "#Inspect the node features\n",
        "print('\\nGraph Nodes: ', G.nodes.data())"
      ],
      "execution_count": null,
      "outputs": [
        {
          "output_type": "stream",
          "text": [
            "Graph info:  Name: \n",
            "Type: Graph\n",
            "Number of nodes: 115\n",
            "Number of edges: 245\n",
            "Average degree:   4.2609\n",
            "\n",
            "Graph Nodes:  [(41.0, {'group': 6.0, 'nodesize': 272.45}), (22.0, {'group': 6.0, 'nodesize': 341.17}), (40.0, {'group': 8.0, 'nodesize': 29.83}), (89.0, {'group': 8.0, 'nodesize': 52.84}), (83.0, {'group': 3.0, 'nodesize': 70.14}), (84.0, {'group': 3.0, 'nodesize': 55.31}), (44.0, {'group': 4.0, 'nodesize': 87.46}), (94.0, {'group': 4.0, 'nodesize': 63.62}), (42.0, {'group': 6.0, 'nodesize': 140.18}), (17.0, {'group': 1.0, 'nodesize': 189.83}), (19.0, {'group': 1.0, 'nodesize': 268.11}), (12.0, {'group': 2.0, 'nodesize': 129.55}), (18.0, {'group': 2.0, 'nodesize': 321.13}), (65.0, {'group': 4.0, 'nodesize': 47.01}), (48.0, {'group': 6.0, 'nodesize': 649.16}), (50.0, {'group': 6.0, 'nodesize': 208.29}), (80.0, {'group': 3.0, 'nodesize': 8.52}), (78.0, {'group': 3.0, 'nodesize': 59.03}), (70.0, {'group': 6.0, 'nodesize': 361.22}), (62.0, {'group': 6.0, 'nodesize': 165.43}), (91.0, {'group': 8.0, 'nodesize': 18.0}), (0.0, {'group': 2.0, 'nodesize': 75.08}), (77.0, {'group': 3.0, 'nodesize': 13.61}), (90.0, {'group': 8.0, 'nodesize': 12.37}), (54.0, {'group': 6.0, 'nodesize': 9.73}), (85.0, {'group': 6.0, 'nodesize': 30.55}), (38.0, {'group': 10.0, 'nodesize': 17.95}), (10.0, {'group': 10.0, 'nodesize': 11.04}), (93.0, {'group': 2.0, 'nodesize': 64.62}), (33.0, {'group': 3.0, 'nodesize': 14.27}), (64.0, {'group': 3.0, 'nodesize': 117.36}), (60.0, {'group': 3.0, 'nodesize': 50.95}), (45.0, {'group': 4.0, 'nodesize': 15.29}), (36.0, {'group': 5.0, 'nodesize': 12.71}), (35.0, {'group': 5.0, 'nodesize': 54.48}), (31.0, {'group': 14.0, 'nodesize': 12.5}), (32.0, {'group': 14.0, 'nodesize': 11.38}), (30.0, {'group': 2.0, 'nodesize': 12.88}), (55.0, {'group': 2.0, 'nodesize': 8.32}), (107.0, {'group': 2.0, 'nodesize': 12.73}), (111.0, {'group': 2.0, 'nodesize': 19.38}), (4.0, {'group': 4.0, 'nodesize': 229.86}), (46.0, {'group': 8.0, 'nodesize': 610.65}), (86.0, {'group': 10.0, 'nodesize': 27.02}), (2.0, {'group': 6.0, 'nodesize': 35.41}), (24.0, {'group': 1.0, 'nodesize': 40.91}), (74.0, {'group': 1.0, 'nodesize': 438.67}), (104.0, {'group': 14.0, 'nodesize': 16.87}), (113.0, {'group': 4.0, 'nodesize': 11.37}), (9.0, {'group': 5.0, 'nodesize': 13.17}), (63.0, {'group': 5.0, 'nodesize': 9.49}), (8.0, {'group': 6.0, 'nodesize': 126.59}), (13.0, {'group': 2.0, 'nodesize': 11.28}), (53.0, {'group': 6.0, 'nodesize': 32.12}), (71.0, {'group': 2.0, 'nodesize': 10.32}), (66.0, {'group': 2.0, 'nodesize': 30.19}), (51.0, {'group': 6.0, 'nodesize': 25.38}), (114.0, {'group': 6.0, 'nodesize': 23.77}), (34.0, {'group': 1.0, 'nodesize': 9.39}), (110.0, {'group': 6.0, 'nodesize': 46.74}), (47.0, {'group': 8.0, 'nodesize': 22.45}), (59.0, {'group': 8.0, 'nodesize': 10.3}), (52.0, {'group': 8.0, 'nodesize': 13.78}), (15.0, {'group': 5.0, 'nodesize': 23.91}), (56.0, {'group': 5.0, 'nodesize': 108.54}), (7.0, {'group': 7.0, 'nodesize': 18.79}), (99.0, {'group': 7.0, 'nodesize': 17.53}), (21.0, {'group': 6.0, 'nodesize': 18.71}), (95.0, {'group': 12.0, 'nodesize': 9.45}), (1.0, {'group': 12.0, 'nodesize': 12.22}), (97.0, {'group': 6.0, 'nodesize': 31.05}), (108.0, {'group': 8.0, 'nodesize': 18.94}), (82.0, {'group': 8.0, 'nodesize': 27.08}), (96.0, {'group': 11.0, 'nodesize': 8.95}), (87.0, {'group': 11.0, 'nodesize': 12.7}), (5.0, {'group': 4.0, 'nodesize': 14.79}), (79.0, {'group': 3.0, 'nodesize': 13.85}), (49.0, {'group': 9.0, 'nodesize': 10.02}), (25.0, {'group': 9.0, 'nodesize': 22.85}), (3.0, {'group': 9.0, 'nodesize': 30.05}), (6.0, {'group': 7.0, 'nodesize': 29.09}), (67.0, {'group': 4.0, 'nodesize': 12.58}), (57.0, {'group': 1.0, 'nodesize': 44.21}), (75.0, {'group': 1.0, 'nodesize': 10.53}), (109.0, {'group': 5.0, 'nodesize': 19.71}), (100.0, {'group': 5.0, 'nodesize': 11.98}), (43.0, {'group': 6.0, 'nodesize': 8.44}), (28.0, {'group': 3.0, 'nodesize': 10.82}), (106.0, {'group': 6.0, 'nodesize': 8.38}), (76.0, {'group': 1.0, 'nodesize': 52.7}), (29.0, {'group': 1.0, 'nodesize': 13.27}), (37.0, {'group': 9.0, 'nodesize': 24.84}), (105.0, {'group': 2.0, 'nodesize': 18.13}), (72.0, {'group': 3.0, 'nodesize': 39.03}), (92.0, {'group': 2.0, 'nodesize': 154.23}), (102.0, {'group': 5.0, 'nodesize': 15.67}), (27.0, {'group': 8.0, 'nodesize': 11.39}), (103.0, {'group': 2.0, 'nodesize': 23.56}), (101.0, {'group': 2.0, 'nodesize': 19.36}), (23.0, {'group': 9.0, 'nodesize': 9.81}), (26.0, {'group': 6.0, 'nodesize': 8.25}), (88.0, {'group': 5.0, 'nodesize': 11.63}), (16.0, {'group': 6.0, 'nodesize': 13.28}), (112.0, {'group': 2.0, 'nodesize': 11.18}), (14.0, {'group': 2.0, 'nodesize': 13.68}), (61.0, {'group': 2.0, 'nodesize': 10.92}), (39.0, {'group': 10.0, 'nodesize': 11.18}), (11.0, {'group': 8.0, 'nodesize': 8.61}), (98.0, {'group': 6.0, 'nodesize': 10.13}), (81.0, {'group': 13.0, 'nodesize': 9.46}), (68.0, {'group': 13.0, 'nodesize': 19.38}), (20.0, {'group': 9.0, 'nodesize': 10.66}), (69.0, {'group': 6.0, 'nodesize': 12.62}), (73.0, {'group': 5.0, 'nodesize': 9.85}), (58.0, {'group': 1.0, 'nodesize': 27.21})]\n"
          ],
          "name": "stdout"
        }
      ]
    },
    {
      "cell_type": "code",
      "metadata": {
        "id": "1dr-iMUIzRj9"
      },
      "source": [
        ""
      ],
      "execution_count": null,
      "outputs": []
    },
    {
      "cell_type": "code",
      "metadata": {
        "id": "BlijPCaXzWLp"
      },
      "source": [
        "color_map = {1:'#f09494', 2:'#eebcbc', 3:'#72bbd0', 4:'#91f0a1', 5:'#629fff', 6:'#bcc2f2',  \n",
        "             7:'#eebcbc', 8:'#f1f0c0', 9:'#d2ffe7', 10:'#caf3a6', 11:'#ffdf55', 12:'#ef77aa', \n",
        "             13:'#d6dcff', 14:'#d2f5f0'}\n"
      ],
      "execution_count": null,
      "outputs": []
    },
    {
      "cell_type": "code",
      "metadata": {
        "id": "k8ovffaxC2PR"
      },
      "source": [
        "colors = [color_map[G.nodes[node]['group']] for node in G]\n",
        "sizes = [G.nodes[node]['nodesize']*10 for node in G]"
      ],
      "execution_count": null,
      "outputs": []
    },
    {
      "cell_type": "code",
      "metadata": {
        "id": "HjVF15MBu7Fr",
        "colab": {
          "base_uri": "https://localhost:8080/",
          "height": 1000
        },
        "outputId": "2ff1c471-d0e7-4f99-a1af-085e09c373bc"
      },
      "source": [
        "import matplotlib.pyplot as plt\n",
        "\n",
        "plt.rcParams[\"figure.figsize\"] = (30,30)\n",
        "\n",
        "nx.draw(G, node_color=colors, node_size=sizes, with_labels=True, font_weight='bold')\n",
        "plt.show()"
      ],
      "execution_count": null,
      "outputs": [
        {
          "output_type": "display_data",
          "data": {
            "image/png": "[encoded data removed]",
            "text/plain": [
              "<Figure size 2160x2160 with 1 Axes>"
            ]
          },
          "metadata": {
            "tags": []
          }
        }
      ]
    },
    {
      "cell_type": "code",
      "metadata": {
        "id": "BjMnxvsjwX6D"
      },
      "source": [
        ""
      ],
      "execution_count": null,
      "outputs": []
    },
    {
      "cell_type": "markdown",
      "metadata": {
        "id": "p2Zlg5SJwZ5w"
      },
      "source": [
        "# Adjacency Matrix (A) and Node Features Matrix (X)"
      ]
    },
    {
      "cell_type": "code",
      "metadata": {
        "id": "ZDOT9aH2wrPW",
        "colab": {
          "base_uri": "https://localhost:8080/",
          "height": 639
        },
        "outputId": "45cac659-521d-4fc0-a184-9cf5115604b3"
      },
      "source": [
        "#Get the Adjacency Matrix (A) and Node Features Matrix (X) as numpy array\n",
        "A = np.array(nx.attr_matrix(G, node_attr='group')[0])\n",
        "X = np.array(nx.attr_matrix(G, node_attr='group')[1])\n",
        "X = np.expand_dims(X,axis=1)\n",
        "\n",
        "print('Shape of A: ', A.shape)\n",
        "print('\\nShape of X: ', X.shape)\n",
        "print('\\nAdjacency Matrix (A):\\n', A)\n",
        "print('\\nNode Features Matrix (X):\\n', X)"
      ],
      "execution_count": null,
      "outputs": [
        {
          "output_type": "stream",
          "text": [
            "Shape of A:  (14, 14)\n",
            "\n",
            "Shape of X:  (14, 1)\n",
            "\n",
            "Adjacency Matrix (A):\n",
            " [[12.  0.  1.  0.  1.  0.  0.  2.  0.  0.  0.  0.  0.  0.]\n",
            " [ 0. 49.  0.  0.  0.  2.  0.  0.  1.  0.  0.  0.  0.  0.]\n",
            " [ 1.  0. 20.  0.  1.  9.  0.  0.  0.  0.  0.  0.  0.  0.]\n",
            " [ 0.  0.  0. 14.  2.  0.  0.  1.  0.  0.  0.  0.  0.  0.]\n",
            " [ 1.  0.  1.  2. 13.  1.  0.  0.  1.  0.  0.  0.  0.  0.]\n",
            " [ 0.  2.  9.  0.  1. 66.  1.  1.  0.  0.  0.  0.  0.  0.]\n",
            " [ 0.  0.  0.  0.  0.  1.  2.  0.  0.  0.  0.  0.  0.  0.]\n",
            " [ 2.  0.  0.  1.  0.  1.  0. 27.  1.  0.  0.  0.  0.  0.]\n",
            " [ 0.  1.  0.  0.  1.  0.  0.  1.  7.  0.  0.  0.  0.  0.]\n",
            " [ 0.  0.  0.  0.  0.  0.  0.  0.  0.  4.  0.  0.  0.  0.]\n",
            " [ 0.  0.  0.  0.  0.  0.  0.  0.  0.  0.  1.  0.  0.  0.]\n",
            " [ 0.  0.  0.  0.  0.  0.  0.  0.  0.  0.  0.  1.  0.  0.]\n",
            " [ 0.  0.  0.  0.  0.  0.  0.  0.  0.  0.  0.  0.  1.  0.]\n",
            " [ 0.  0.  0.  0.  0.  0.  0.  0.  0.  0.  0.  0.  0.  3.]]\n",
            "\n",
            "Node Features Matrix (X):\n",
            " [[ 1.]\n",
            " [ 2.]\n",
            " [ 3.]\n",
            " [ 4.]\n",
            " [ 5.]\n",
            " [ 6.]\n",
            " [ 7.]\n",
            " [ 8.]\n",
            " [ 9.]\n",
            " [10.]\n",
            " [11.]\n",
            " [12.]\n",
            " [13.]\n",
            " [14.]]\n"
          ],
          "name": "stdout"
        }
      ]
    },
    {
      "cell_type": "markdown",
      "metadata": {
        "id": "ED7MVh1TaNsO"
      },
      "source": [
        "# Converting the label to one-hot encoding"
      ]
    },
    {
      "cell_type": "code",
      "metadata": {
        "id": "aMKGV_Dwbwrg"
      },
      "source": [
        "from keras.utils import to_categorical"
      ],
      "execution_count": null,
      "outputs": []
    },
    {
      "cell_type": "code",
      "metadata": {
        "id": "eoTs7PsWaR61"
      },
      "source": [
        "def encode_label(labels):\n",
        "    label_encoder = LabelEncoder()\n",
        "    labels = label_encoder.fit_transform(labels)\n",
        "    labels = to_categorical(labels)\n",
        "    return labels, label_encoder.classes_\n",
        "\n",
        "labels_encoded, classes = encode_label(labels)"
      ],
      "execution_count": null,
      "outputs": []
    },
    {
      "cell_type": "code",
      "metadata": {
        "id": "N8TL4PSPPD9S",
        "colab": {
          "base_uri": "https://localhost:8080/",
          "height": 35
        },
        "outputId": "4635ce34-d4e1-46b2-8a5a-79d7267bf0de"
      },
      "source": [
        "classes"
      ],
      "execution_count": null,
      "outputs": [
        {
          "output_type": "execute_result",
          "data": {
            "text/plain": [
              "array([ 1,  2,  3,  4,  5,  6,  7,  8,  9, 10, 11, 12, 13, 14])"
            ]
          },
          "metadata": {
            "tags": []
          },
          "execution_count": 76
        }
      ]
    },
    {
      "cell_type": "code",
      "metadata": {
        "id": "NAEIFDyDaawh",
        "colab": {
          "base_uri": "https://localhost:8080/",
          "height": 141
        },
        "outputId": "7c0c10bb-71a1-4e54-9767-0c4d323bc1b4"
      },
      "source": [
        "labels_encoded"
      ],
      "execution_count": null,
      "outputs": [
        {
          "output_type": "execute_result",
          "data": {
            "text/plain": [
              "array([[0., 0., 0., ..., 0., 0., 0.],\n",
              "       [0., 0., 0., ..., 0., 0., 0.],\n",
              "       [0., 0., 0., ..., 0., 0., 0.],\n",
              "       ...,\n",
              "       [0., 0., 0., ..., 0., 0., 0.],\n",
              "       [0., 0., 0., ..., 0., 0., 0.],\n",
              "       [1., 0., 0., ..., 0., 0., 0.]], dtype=float32)"
            ]
          },
          "metadata": {
            "tags": []
          },
          "execution_count": 75
        }
      ]
    },
    {
      "cell_type": "markdown",
      "metadata": {
        "id": "wr7P4KFmcFfo"
      },
      "source": [
        "# GCN"
      ]
    },
    {
      "cell_type": "code",
      "metadata": {
        "id": "xUCdXe3Kc6gk",
        "colab": {
          "base_uri": "https://localhost:8080/",
          "height": 286
        },
        "outputId": "5c7b3a5a-e65b-43c5-e4a2-3fd1d347237e"
      },
      "source": [
        "!pip install dgl"
      ],
      "execution_count": null,
      "outputs": [
        {
          "output_type": "stream",
          "text": [
            "Collecting dgl\n",
            "\u001b[?25l  Downloading https://files.pythonhosted.org/packages/4d/05/9627fd225854f9ab77984f79405e78def50eb673a962940ed30fc07e9ac6/dgl-0.5.2-cp36-cp36m-manylinux1_x86_64.whl (3.5MB)\n",
            "\u001b[K     |████████████████████████████████| 3.5MB 3.4MB/s \n",
            "\u001b[?25hRequirement already satisfied: numpy>=1.14.0 in /usr/local/lib/python3.6/dist-packages (from dgl) (1.18.5)\n",
            "Requirement already satisfied: scipy>=1.1.0 in /usr/local/lib/python3.6/dist-packages (from dgl) (1.4.1)\n",
            "Requirement already satisfied: networkx>=2.1 in /usr/local/lib/python3.6/dist-packages (from dgl) (2.5)\n",
            "Requirement already satisfied: requests>=2.19.0 in /usr/local/lib/python3.6/dist-packages (from dgl) (2.23.0)\n",
            "Requirement already satisfied: decorator>=4.3.0 in /usr/local/lib/python3.6/dist-packages (from networkx>=2.1->dgl) (4.4.2)\n",
            "Requirement already satisfied: chardet<4,>=3.0.2 in /usr/local/lib/python3.6/dist-packages (from requests>=2.19.0->dgl) (3.0.4)\n",
            "Requirement already satisfied: certifi>=2017.4.17 in /usr/local/lib/python3.6/dist-packages (from requests>=2.19.0->dgl) (2020.6.20)\n",
            "Requirement already satisfied: idna<3,>=2.5 in /usr/local/lib/python3.6/dist-packages (from requests>=2.19.0->dgl) (2.10)\n",
            "Requirement already satisfied: urllib3!=1.25.0,!=1.25.1,<1.26,>=1.21.1 in /usr/local/lib/python3.6/dist-packages (from requests>=2.19.0->dgl) (1.24.3)\n",
            "Installing collected packages: dgl\n",
            "Successfully installed dgl-0.5.2\n"
          ],
          "name": "stdout"
        }
      ]
    },
    {
      "cell_type": "code",
      "metadata": {
        "id": "P0rOraNJeoj1",
        "colab": {
          "base_uri": "https://localhost:8080/",
          "height": 926
        },
        "outputId": "dd3e2119-a23e-44f1-e559-1ca19d08f5b5"
      },
      "source": [
        "!pip install spektral"
      ],
      "execution_count": null,
      "outputs": [
        {
          "output_type": "stream",
          "text": [
            "Collecting spektral\n",
            "\u001b[?25l  Downloading https://files.pythonhosted.org/packages/8e/2e/3b5bb768d0568f9568bcde08f42738b17bada5f5329221222edfad0838f6/spektral-0.6.1-py3-none-any.whl (95kB)\n",
            "\r\u001b[K     |███▍                            | 10kB 8.6MB/s eta 0:00:01\r\u001b[K     |██████▉                         | 20kB 2.1MB/s eta 0:00:01\r\u001b[K     |██████████▎                     | 30kB 2.7MB/s eta 0:00:01\r\u001b[K     |█████████████▊                  | 40kB 3.1MB/s eta 0:00:01\r\u001b[K     |█████████████████▏              | 51kB 2.5MB/s eta 0:00:01\r\u001b[K     |████████████████████▋           | 61kB 2.8MB/s eta 0:00:01\r\u001b[K     |████████████████████████        | 71kB 3.0MB/s eta 0:00:01\r\u001b[K     |███████████████████████████▌    | 81kB 3.3MB/s eta 0:00:01\r\u001b[K     |███████████████████████████████ | 92kB 3.6MB/s eta 0:00:01\r\u001b[K     |████████████████████████████████| 102kB 3.1MB/s \n",
            "\u001b[?25hRequirement already satisfied: tensorflow>=2.1.0 in /usr/local/lib/python3.6/dist-packages (from spektral) (2.3.0)\n",
            "Requirement already satisfied: requests in /usr/local/lib/python3.6/dist-packages (from spektral) (2.23.0)\n",
            "Requirement already satisfied: networkx in /usr/local/lib/python3.6/dist-packages (from spektral) (2.5)\n",
            "Requirement already satisfied: pandas in /usr/local/lib/python3.6/dist-packages (from spektral) (1.0.5)\n",
            "Requirement already satisfied: scikit-learn in /usr/local/lib/python3.6/dist-packages (from spektral) (0.22.2.post1)\n",
            "Requirement already satisfied: numpy in /usr/local/lib/python3.6/dist-packages (from spektral) (1.18.5)\n",
            "Requirement already satisfied: lxml in /usr/local/lib/python3.6/dist-packages (from spektral) (4.2.6)\n",
            "Requirement already satisfied: joblib in /usr/local/lib/python3.6/dist-packages (from spektral) (0.16.0)\n",
            "Requirement already satisfied: scipy in /usr/local/lib/python3.6/dist-packages (from spektral) (1.4.1)\n",
            "Requirement already satisfied: termcolor>=1.1.0 in /usr/local/lib/python3.6/dist-packages (from tensorflow>=2.1.0->spektral) (1.1.0)\n",
            "Requirement already satisfied: wrapt>=1.11.1 in /usr/local/lib/python3.6/dist-packages (from tensorflow>=2.1.0->spektral) (1.12.1)\n",
            "Requirement already satisfied: protobuf>=3.9.2 in /usr/local/lib/python3.6/dist-packages (from tensorflow>=2.1.0->spektral) (3.12.4)\n",
            "Requirement already satisfied: h5py<2.11.0,>=2.10.0 in /usr/local/lib/python3.6/dist-packages (from tensorflow>=2.1.0->spektral) (2.10.0)\n",
            "Requirement already satisfied: wheel>=0.26 in /usr/local/lib/python3.6/dist-packages (from tensorflow>=2.1.0->spektral) (0.35.1)\n",
            "Requirement already satisfied: gast==0.3.3 in /usr/local/lib/python3.6/dist-packages (from tensorflow>=2.1.0->spektral) (0.3.3)\n",
            "Requirement already satisfied: grpcio>=1.8.6 in /usr/local/lib/python3.6/dist-packages (from tensorflow>=2.1.0->spektral) (1.32.0)\n",
            "Requirement already satisfied: tensorflow-estimator<2.4.0,>=2.3.0 in /usr/local/lib/python3.6/dist-packages (from tensorflow>=2.1.0->spektral) (2.3.0)\n",
            "Requirement already satisfied: astunparse==1.6.3 in /usr/local/lib/python3.6/dist-packages (from tensorflow>=2.1.0->spektral) (1.6.3)\n",
            "Requirement already satisfied: absl-py>=0.7.0 in /usr/local/lib/python3.6/dist-packages (from tensorflow>=2.1.0->spektral) (0.10.0)\n",
            "Requirement already satisfied: tensorboard<3,>=2.3.0 in /usr/local/lib/python3.6/dist-packages (from tensorflow>=2.1.0->spektral) (2.3.0)\n",
            "Requirement already satisfied: keras-preprocessing<1.2,>=1.1.1 in /usr/local/lib/python3.6/dist-packages (from tensorflow>=2.1.0->spektral) (1.1.2)\n",
            "Requirement already satisfied: six>=1.12.0 in /usr/local/lib/python3.6/dist-packages (from tensorflow>=2.1.0->spektral) (1.15.0)\n",
            "Requirement already satisfied: google-pasta>=0.1.8 in /usr/local/lib/python3.6/dist-packages (from tensorflow>=2.1.0->spektral) (0.2.0)\n",
            "Requirement already satisfied: opt-einsum>=2.3.2 in /usr/local/lib/python3.6/dist-packages (from tensorflow>=2.1.0->spektral) (3.3.0)\n",
            "Requirement already satisfied: idna<3,>=2.5 in /usr/local/lib/python3.6/dist-packages (from requests->spektral) (2.10)\n",
            "Requirement already satisfied: chardet<4,>=3.0.2 in /usr/local/lib/python3.6/dist-packages (from requests->spektral) (3.0.4)\n",
            "Requirement already satisfied: urllib3!=1.25.0,!=1.25.1,<1.26,>=1.21.1 in /usr/local/lib/python3.6/dist-packages (from requests->spektral) (1.24.3)\n",
            "Requirement already satisfied: certifi>=2017.4.17 in /usr/local/lib/python3.6/dist-packages (from requests->spektral) (2020.6.20)\n",
            "Requirement already satisfied: decorator>=4.3.0 in /usr/local/lib/python3.6/dist-packages (from networkx->spektral) (4.4.2)\n",
            "Requirement already satisfied: python-dateutil>=2.6.1 in /usr/local/lib/python3.6/dist-packages (from pandas->spektral) (2.8.1)\n",
            "Requirement already satisfied: pytz>=2017.2 in /usr/local/lib/python3.6/dist-packages (from pandas->spektral) (2018.9)\n",
            "Requirement already satisfied: setuptools in /usr/local/lib/python3.6/dist-packages (from protobuf>=3.9.2->tensorflow>=2.1.0->spektral) (50.3.0)\n",
            "Requirement already satisfied: google-auth-oauthlib<0.5,>=0.4.1 in /usr/local/lib/python3.6/dist-packages (from tensorboard<3,>=2.3.0->tensorflow>=2.1.0->spektral) (0.4.1)\n",
            "Requirement already satisfied: tensorboard-plugin-wit>=1.6.0 in /usr/local/lib/python3.6/dist-packages (from tensorboard<3,>=2.3.0->tensorflow>=2.1.0->spektral) (1.7.0)\n",
            "Requirement already satisfied: markdown>=2.6.8 in /usr/local/lib/python3.6/dist-packages (from tensorboard<3,>=2.3.0->tensorflow>=2.1.0->spektral) (3.2.2)\n",
            "Requirement already satisfied: google-auth<2,>=1.6.3 in /usr/local/lib/python3.6/dist-packages (from tensorboard<3,>=2.3.0->tensorflow>=2.1.0->spektral) (1.17.2)\n",
            "Requirement already satisfied: werkzeug>=0.11.15 in /usr/local/lib/python3.6/dist-packages (from tensorboard<3,>=2.3.0->tensorflow>=2.1.0->spektral) (1.0.1)\n",
            "Requirement already satisfied: requests-oauthlib>=0.7.0 in /usr/local/lib/python3.6/dist-packages (from google-auth-oauthlib<0.5,>=0.4.1->tensorboard<3,>=2.3.0->tensorflow>=2.1.0->spektral) (1.3.0)\n",
            "Requirement already satisfied: importlib-metadata; python_version < \"3.8\" in /usr/local/lib/python3.6/dist-packages (from markdown>=2.6.8->tensorboard<3,>=2.3.0->tensorflow>=2.1.0->spektral) (1.7.0)\n",
            "Requirement already satisfied: cachetools<5.0,>=2.0.0 in /usr/local/lib/python3.6/dist-packages (from google-auth<2,>=1.6.3->tensorboard<3,>=2.3.0->tensorflow>=2.1.0->spektral) (4.1.1)\n",
            "Requirement already satisfied: pyasn1-modules>=0.2.1 in /usr/local/lib/python3.6/dist-packages (from google-auth<2,>=1.6.3->tensorboard<3,>=2.3.0->tensorflow>=2.1.0->spektral) (0.2.8)\n",
            "Requirement already satisfied: rsa<5,>=3.1.4; python_version >= \"3\" in /usr/local/lib/python3.6/dist-packages (from google-auth<2,>=1.6.3->tensorboard<3,>=2.3.0->tensorflow>=2.1.0->spektral) (4.6)\n",
            "Requirement already satisfied: oauthlib>=3.0.0 in /usr/local/lib/python3.6/dist-packages (from requests-oauthlib>=0.7.0->google-auth-oauthlib<0.5,>=0.4.1->tensorboard<3,>=2.3.0->tensorflow>=2.1.0->spektral) (3.1.0)\n",
            "Requirement already satisfied: zipp>=0.5 in /usr/local/lib/python3.6/dist-packages (from importlib-metadata; python_version < \"3.8\"->markdown>=2.6.8->tensorboard<3,>=2.3.0->tensorflow>=2.1.0->spektral) (3.1.0)\n",
            "Requirement already satisfied: pyasn1<0.5.0,>=0.4.6 in /usr/local/lib/python3.6/dist-packages (from pyasn1-modules>=0.2.1->google-auth<2,>=1.6.3->tensorboard<3,>=2.3.0->tensorflow>=2.1.0->spektral) (0.4.8)\n",
            "Installing collected packages: spektral\n",
            "Successfully installed spektral-0.6.1\n"
          ],
          "name": "stdout"
        }
      ]
    },
    {
      "cell_type": "code",
      "metadata": {
        "id": "fI65EmcCcyr8",
        "colab": {
          "base_uri": "https://localhost:8080/",
          "height": 90
        },
        "outputId": "9db4603d-df3b-41a2-a2c9-2cf3c41fca95"
      },
      "source": [
        "import dgl\n",
        "from dgl.nn.pytorch import GraphConv\n",
        "from sklearn import preprocessing\n",
        "from spektral.layers import GraphConv"
      ],
      "execution_count": null,
      "outputs": [
        {
          "output_type": "stream",
          "text": [
            "DGL backend not selected or invalid.  Assuming PyTorch for now.\n",
            "Using backend: pytorch\n"
          ],
          "name": "stderr"
        },
        {
          "output_type": "stream",
          "text": [
            "Setting the default backend to \"pytorch\". You can change it in the ~/.dgl/config.json file or export the DGLBACKEND environment variable.  Valid options are: pytorch, mxnet, tensorflow (all lowercase)\n"
          ],
          "name": "stdout"
        }
      ]
    },
    {
      "cell_type": "code",
      "metadata": {
        "id": "QuPLlbHhcKDt"
      },
      "source": [
        "# Parameters\n",
        "channels = 16           # Number of channels in the first layer\n",
        "dropout = 0.5           # Dropout rate for the features\n",
        "l2_reg = 5e-4           # L2 regularization rate\n",
        "learning_rate = 1e-2    # Learning rate\n",
        "epochs = 200            # Number of training epochs\n",
        "es_patience = 10        # Patience for early stopping\n",
        "\n",
        "# Preprocessing operations\n",
        "A = GraphConv.preprocess(A).astype('f4')"
      ],
      "execution_count": null,
      "outputs": []
    },
    {
      "cell_type": "code",
      "metadata": {
        "id": "DMYaRQGZpRGZ"
      },
      "source": [
        "F = df_nodes.iloc[:,1:3]\n",
        "F = len(F. columns)"
      ],
      "execution_count": null,
      "outputs": []
    },
    {
      "cell_type": "code",
      "metadata": {
        "id": "t9uTlGvrpRJs"
      },
      "source": [
        "N = G.nodes\n",
        "N = len(N)"
      ],
      "execution_count": null,
      "outputs": []
    },
    {
      "cell_type": "code",
      "metadata": {
        "id": "UpAiqg8gGXl_",
        "colab": {
          "base_uri": "https://localhost:8080/",
          "height": 52
        },
        "outputId": "6a76803f-e1fa-4962-9094-acbc4c1d0ce5"
      },
      "source": [
        "num_classes = len(set(labels))\n",
        "print('\\nNumber of classes: ', num_classes)"
      ],
      "execution_count": null,
      "outputs": [
        {
          "output_type": "stream",
          "text": [
            "\n",
            "Number of classes:  14\n"
          ],
          "name": "stdout"
        }
      ]
    },
    {
      "cell_type": "code",
      "metadata": {
        "id": "ZqHMeVkspRN6"
      },
      "source": [
        "import tensorflow as tf\n",
        "import tensorflow \n",
        "\n",
        "from tensorflow import keras\n",
        "from keras.layers import Dense\n",
        "from tensorflow.python.keras.layers import Input, Dense\n",
        "from keras.layers import Dropout\n",
        "from tensorflow.keras import layers\n",
        "from tensorflow.keras import regularizers"
      ],
      "execution_count": null,
      "outputs": []
    },
    {
      "cell_type": "code",
      "metadata": {
        "id": "HMtK88GDfBY3"
      },
      "source": [
        "# Model definition\n",
        "X_in = Input(shape=(F, ))\n",
        "fltr_in = Input((N, ), sparse=True)\n",
        "\n",
        "dropout_1 = Dropout(dropout)(X_in)\n",
        "graph_conv_1 = GraphConv(channels,\n",
        "                         activation='relu',\n",
        "                         kernel_regularizer=regularizers.l2(l2_reg),\n",
        "                         use_bias=False)([dropout_1, fltr_in])\n",
        "\n",
        "dropout_2 = Dropout(dropout)(graph_conv_1)\n",
        "graph_conv_2 = GraphConv(num_classes,\n",
        "                         activation='softmax',\n",
        "                         use_bias=False)([dropout_2, fltr_in])\n"
      ],
      "execution_count": null,
      "outputs": []
    },
    {
      "cell_type": "code",
      "metadata": {
        "id": "AT3hJGihH04Q"
      },
      "source": [
        "import tensorflow.keras as keras"
      ],
      "execution_count": null,
      "outputs": []
    },
    {
      "cell_type": "code",
      "metadata": {
        "id": "UOdz6CyLHkn4",
        "colab": {
          "base_uri": "https://localhost:8080/",
          "height": 408
        },
        "outputId": "58df0fdc-1022-4ba0-b70d-d3a35e459196"
      },
      "source": [
        "# Build model\n",
        "model = keras.Model(inputs=[X_in, fltr_in], outputs=graph_conv_2)\n",
        "optimizer = tf.keras.optimizers.Adam(lr=learning_rate)\n",
        "model.compile(optimizer=optimizer,\n",
        "              loss='categorical_crossentropy',\n",
        "              weighted_metrics=['acc'])\n",
        "model.summary()\n"
      ],
      "execution_count": null,
      "outputs": [
        {
          "output_type": "stream",
          "text": [
            "Model: \"functional_5\"\n",
            "__________________________________________________________________________________________________\n",
            "Layer (type)                    Output Shape         Param #     Connected to                     \n",
            "==================================================================================================\n",
            "input_12 (InputLayer)           [(None, 2)]          0                                            \n",
            "__________________________________________________________________________________________________\n",
            "dropout_6 (Dropout)             (None, 2)            0           input_12[0][0]                   \n",
            "__________________________________________________________________________________________________\n",
            "input_13 (InputLayer)           [(None, 115)]        0                                            \n",
            "__________________________________________________________________________________________________\n",
            "graph_conv_1 (GraphConv)        (None, 16)           32          dropout_6[0][0]                  \n",
            "                                                                 input_13[0][0]                   \n",
            "__________________________________________________________________________________________________\n",
            "dropout_7 (Dropout)             (None, 16)           0           graph_conv_1[0][0]               \n",
            "__________________________________________________________________________________________________\n",
            "graph_conv_2 (GraphConv)        (None, 14)           224         dropout_7[0][0]                  \n",
            "                                                                 input_13[0][0]                   \n",
            "==================================================================================================\n",
            "Total params: 256\n",
            "Trainable params: 256\n",
            "Non-trainable params: 0\n",
            "__________________________________________________________________________________________________\n"
          ],
          "name": "stdout"
        }
      ]
    },
    {
      "cell_type": "code",
      "metadata": {
        "id": "_GCcc-frJlIk"
      },
      "source": [
        ""
      ],
      "execution_count": null,
      "outputs": []
    },
    {
      "cell_type": "markdown",
      "metadata": {
        "id": "i-op4En_I8l-"
      },
      "source": [
        "# Train the Graph Convolutional Networks"
      ]
    },
    {
      "cell_type": "code",
      "metadata": {
        "id": "cXvGK5BWI9mT",
        "colab": {
          "base_uri": "https://localhost:8080/",
          "height": 239
        },
        "outputId": "0ab20f7d-d5d6-403e-9e8c-67fb9f036e09"
      },
      "source": [
        "# Train model\n",
        "#validation_data = ([X, A], labels_encoded, val_mask)\n",
        "model.fit([X, A],\n",
        "          labels_encoded,\n",
        "          #sample_weight=train_mask,\n",
        "          epochs=epochs,\n",
        "          batch_size=N,\n",
        "          #validation_data=validation_data,\n",
        "          shuffle=False,\n",
        "          callbacks=[\n",
        "              EarlyStopping(patience=es_patience,  restore_best_weights=True),\n",
        "    \n",
        "          ])"
      ],
      "execution_count": null,
      "outputs": [
        {
          "output_type": "error",
          "ename": "NameError",
          "evalue": "ignored",
          "traceback": [
            "\u001b[0;31m---------------------------------------------------------------------------\u001b[0m",
            "\u001b[0;31mNameError\u001b[0m                                 Traceback (most recent call last)",
            "\u001b[0;32m<ipython-input-74-ce1cdac06bd3>\u001b[0m in \u001b[0;36m<module>\u001b[0;34m()\u001b[0m\n\u001b[1;32m      9\u001b[0m           \u001b[0mshuffle\u001b[0m\u001b[0;34m=\u001b[0m\u001b[0;32mFalse\u001b[0m\u001b[0;34m,\u001b[0m\u001b[0;34m\u001b[0m\u001b[0;34m\u001b[0m\u001b[0m\n\u001b[1;32m     10\u001b[0m           callbacks=[\n\u001b[0;32m---> 11\u001b[0;31m               \u001b[0mEarlyStopping\u001b[0m\u001b[0;34m(\u001b[0m\u001b[0mpatience\u001b[0m\u001b[0;34m=\u001b[0m\u001b[0mes_patience\u001b[0m\u001b[0;34m,\u001b[0m  \u001b[0mrestore_best_weights\u001b[0m\u001b[0;34m=\u001b[0m\u001b[0;32mTrue\u001b[0m\u001b[0;34m)\u001b[0m\u001b[0;34m,\u001b[0m\u001b[0;34m\u001b[0m\u001b[0;34m\u001b[0m\u001b[0m\n\u001b[0m\u001b[1;32m     12\u001b[0m \u001b[0;34m\u001b[0m\u001b[0m\n\u001b[1;32m     13\u001b[0m           ])\n",
            "\u001b[0;31mNameError\u001b[0m: name 'EarlyStopping' is not defined"
          ]
        }
      ]
    },
    {
      "cell_type": "code",
      "metadata": {
        "id": "s2EamLI-Hkq6"
      },
      "source": [
        ""
      ],
      "execution_count": null,
      "outputs": []
    },
    {
      "cell_type": "markdown",
      "metadata": {
        "id": "oRBJO3TeabMF"
      },
      "source": [
        "# Draw the graph"
      ]
    },
    {
      "cell_type": "code",
      "metadata": {
        "id": "vN8ITlH-s9CN"
      },
      "source": [
        "color_map = {1:'#f09494', 2:'#eebcbc', 3:'#72bbd0', 4:'#91f0a1', 5:'#629fff', 6:'#bcc2f2',  \n",
        "             7:'#eebcbc', 8:'#f1f0c0', 9:'#d2ffe7', 10:'#caf3a6', 11:'#ffdf55', 12:'#ef77aa', \n",
        "             13:'#d6dcff', 14:'#d2f5f0'}\n"
      ],
      "execution_count": null,
      "outputs": []
    },
    {
      "cell_type": "code",
      "metadata": {
        "id": "20Qo3vFzPLHU"
      },
      "source": [
        "from matplotlib.pyplot import figure\n",
        "#figure(num=None, figsize=(8, 6), dpi=80, facecolor='w', edgecolor='k')"
      ],
      "execution_count": null,
      "outputs": []
    },
    {
      "cell_type": "code",
      "metadata": {
        "id": "0mObi1rMsZaK"
      },
      "source": [
        "plt.figure(num=None, figsize=(8, 6), dpi=80, facecolor='w', edgecolor='k')\n",
        "options = {\n",
        "    'edge_color': '#FFDEA2',\n",
        "    'width': 1,\n",
        "    'with_labels': True,\n",
        "    'font_weight': 'regular',\n",
        "}"
      ],
      "execution_count": null,
      "outputs": []
    },
    {
      "cell_type": "code",
      "metadata": {
        "id": "mW7Ck1EN_JcH"
      },
      "source": [
        "colors = [color_map[G.nodes[node]['group']] for node in G]\n",
        "sizes = [G.nodes[node]['nodesize']*10 for node in G]"
      ],
      "execution_count": null,
      "outputs": []
    },
    {
      "cell_type": "code",
      "metadata": {
        "id": "OAVnfq2lvTaN"
      },
      "source": [
        "import matplotlib.pyplot as plt\n",
        "\n",
        "plt.rcParams[\"figure.figsize\"] = (50,80)\n",
        "\n",
        "nx.draw(G, node_color=colors, node_size=sizes, with_labels=True, font_weight='bold')\n",
        "plt.show()"
      ],
      "execution_count": null,
      "outputs": []
    },
    {
      "cell_type": "code",
      "metadata": {
        "id": "_qu-A3-BAChV"
      },
      "source": [
        "nx.draw(G, node_color=colors, node_size=sizes, pos=nx.spring_layout(G, k=0.25, iterations=10), **options)\n",
        "ax = plt.gca()\n",
        "ax.collections[0].set_edgecolor(\"#555555\") \n",
        "plt.show()"
      ],
      "execution_count": null,
      "outputs": []
    },
    {
      "cell_type": "code",
      "metadata": {
        "id": "HDrlWja-jnG-"
      },
      "source": [
        "df1 = pd.read_csv(url1, encoding='utf-8')"
      ],
      "execution_count": null,
      "outputs": []
    },
    {
      "cell_type": "code",
      "metadata": {
        "id": "0yLGvrasa4Vh"
      },
      "source": [
        "Graphtype = nx.Graph()"
      ],
      "execution_count": null,
      "outputs": []
    },
    {
      "cell_type": "code",
      "metadata": {
        "id": "W8iFnh8PbK8M"
      },
      "source": [
        "G = nx.parse_edgelist(df1, delimiter=',', create_using=Graphtype,\n",
        "                      nodetype=int, data=(('weight', float),))"
      ],
      "execution_count": null,
      "outputs": []
    },
    {
      "cell_type": "code",
      "metadata": {
        "id": "mTO_prMGbZev"
      },
      "source": [
        "G.number_of_nodes"
      ],
      "execution_count": null,
      "outputs": []
    },
    {
      "cell_type": "code",
      "metadata": {
        "id": "8utReGdYYVnD"
      },
      "source": [
        "\n",
        "G = nx.Graph()"
      ],
      "execution_count": null,
      "outputs": []
    },
    {
      "cell_type": "code",
      "metadata": {
        "id": "GSdtVqTsYVqS"
      },
      "source": [
        "G.add_nodes_from(df1)"
      ],
      "execution_count": null,
      "outputs": []
    },
    {
      "cell_type": "code",
      "metadata": {
        "id": "NUG5obu2YVx1"
      },
      "source": [
        ""
      ],
      "execution_count": null,
      "outputs": []
    },
    {
      "cell_type": "code",
      "metadata": {
        "id": "ZiWUeiUmYVtR"
      },
      "source": [
        "FG = nx.Graph()\n",
        "FG.add_weighted_edges_from([(1, 2, 0.125), (1, 3, 0.75), (2, 4, 1.2), (3, 4, 0.375)])"
      ],
      "execution_count": null,
      "outputs": []
    },
    {
      "cell_type": "code",
      "metadata": {
        "id": "r_Ye2zsiZEtL"
      },
      "source": [
        "FG"
      ],
      "execution_count": null,
      "outputs": []
    },
    {
      "cell_type": "code",
      "metadata": {
        "id": "xO50Q7dtZYbU"
      },
      "source": [
        "import matplotlib.pyplot as plt"
      ],
      "execution_count": null,
      "outputs": []
    },
    {
      "cell_type": "code",
      "metadata": {
        "id": "8SfC6KuDZEwJ"
      },
      "source": [
        "G = nx.petersen_graph()\n",
        "plt.subplot(121)\n",
        "\n",
        "nx.draw(G, with_labels=True, font_weight='bold')\n"
      ],
      "execution_count": null,
      "outputs": []
    },
    {
      "cell_type": "code",
      "metadata": {
        "id": "fa7XF5JsZlL8"
      },
      "source": [
        "plt.subplot(122)\n",
        "\n",
        "nx.draw_shell(G, nlist=[range(5, 10), range(5)], with_labels=True, font_weight='bold')"
      ],
      "execution_count": null,
      "outputs": []
    },
    {
      "cell_type": "code",
      "metadata": {
        "id": "qc0TSsiTkItX"
      },
      "source": [
        "df1.head()"
      ],
      "execution_count": null,
      "outputs": []
    },
    {
      "cell_type": "code",
      "metadata": {
        "id": "OhbwOBKvK53J"
      },
      "source": [
        "#First, find out all the features with type object in the data:\n",
        "\n",
        "objList = df1.select_dtypes(include = \"object\").columns\n",
        "print (objList)"
      ],
      "execution_count": null,
      "outputs": []
    },
    {
      "cell_type": "code",
      "metadata": {
        "id": "0pijix7KLVOO"
      },
      "source": [
        "#Label Encoding for object to numeric conversion\n",
        "\n",
        "from sklearn.preprocessing import LabelEncoder\n",
        "le = LabelEncoder()\n",
        "\n",
        "for feat in objList:\n",
        "    df1[feat] = le.fit_transform(df1[feat].astype(str))\n",
        "\n",
        "print (df1.info())"
      ],
      "execution_count": null,
      "outputs": []
    },
    {
      "cell_type": "code",
      "metadata": {
        "id": "jDxE6OL2Lt-I"
      },
      "source": [
        ""
      ],
      "execution_count": null,
      "outputs": []
    },
    {
      "cell_type": "code",
      "metadata": {
        "id": "YszPIoacLuDo"
      },
      "source": [
        "from mlxtend.preprocessing import one_hot\n",
        "from sklearn.preprocessing import OneHotEncoder\n",
        "import numpy as np"
      ],
      "execution_count": null,
      "outputs": []
    },
    {
      "cell_type": "code",
      "metadata": {
        "id": "V_sr52DhLt8X"
      },
      "source": [
        "X = df1.iloc[:,0:3]"
      ],
      "execution_count": null,
      "outputs": []
    },
    {
      "cell_type": "code",
      "metadata": {
        "id": "w8ehE5F5OU_K"
      },
      "source": [
        "arr = X.to_numpy()"
      ],
      "execution_count": null,
      "outputs": []
    },
    {
      "cell_type": "code",
      "metadata": {
        "id": "DYvkOh6fPEXd"
      },
      "source": [
        "OHE = OneHotEncoder()"
      ],
      "execution_count": null,
      "outputs": []
    },
    {
      "cell_type": "code",
      "metadata": {
        "id": "RRFyzcKVO_RF"
      },
      "source": [
        "y = OHE.fit(arr)"
      ],
      "execution_count": null,
      "outputs": []
    },
    {
      "cell_type": "code",
      "metadata": {
        "id": "qz6FnJO9hew7"
      },
      "source": [
        ""
      ],
      "execution_count": null,
      "outputs": []
    }
  ]
}